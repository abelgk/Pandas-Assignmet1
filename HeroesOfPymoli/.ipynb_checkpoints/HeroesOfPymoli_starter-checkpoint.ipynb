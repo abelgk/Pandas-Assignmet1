{
 "cells": [
  {
   "cell_type": "markdown",
   "metadata": {},
   "source": [
    "### Heroes Of Pymoli Data Analysis\n",
    "* Of the 1163 active players, the vast majority are male (84%). There also exists, a smaller, but notable proportion of female players (14%).\n",
    "\n",
    "* Our peak age demographic falls between 20-24 (44.8%) with secondary groups falling between 15-19 (18.60%) and 25-29 (13.4%).  \n",
    "-----"
   ]
  },
  {
   "cell_type": "markdown",
   "metadata": {},
   "source": [
    "### Note\n",
    "* Instructions have been included for each segment. You do not have to follow them exactly, but they are included to help you think through the steps."
   ]
  },
  {
   "cell_type": "code",
   "execution_count": 2,
   "metadata": {},
   "outputs": [
    {
     "data": {
      "text/html": [
       "<div>\n",
       "<style scoped>\n",
       "    .dataframe tbody tr th:only-of-type {\n",
       "        vertical-align: middle;\n",
       "    }\n",
       "\n",
       "    .dataframe tbody tr th {\n",
       "        vertical-align: top;\n",
       "    }\n",
       "\n",
       "    .dataframe thead th {\n",
       "        text-align: right;\n",
       "    }\n",
       "</style>\n",
       "<table border=\"1\" class=\"dataframe\">\n",
       "  <thead>\n",
       "    <tr style=\"text-align: right;\">\n",
       "      <th></th>\n",
       "      <th>Purchase ID</th>\n",
       "      <th>SN</th>\n",
       "      <th>Age</th>\n",
       "      <th>Gender</th>\n",
       "      <th>Item ID</th>\n",
       "      <th>Item Name</th>\n",
       "      <th>Price</th>\n",
       "    </tr>\n",
       "  </thead>\n",
       "  <tbody>\n",
       "    <tr>\n",
       "      <th>0</th>\n",
       "      <td>0</td>\n",
       "      <td>Lisim78</td>\n",
       "      <td>20</td>\n",
       "      <td>Male</td>\n",
       "      <td>108</td>\n",
       "      <td>Extraction, Quickblade Of Trembling Hands</td>\n",
       "      <td>3.53</td>\n",
       "    </tr>\n",
       "    <tr>\n",
       "      <th>1</th>\n",
       "      <td>1</td>\n",
       "      <td>Lisovynya38</td>\n",
       "      <td>40</td>\n",
       "      <td>Male</td>\n",
       "      <td>143</td>\n",
       "      <td>Frenzied Scimitar</td>\n",
       "      <td>1.56</td>\n",
       "    </tr>\n",
       "    <tr>\n",
       "      <th>2</th>\n",
       "      <td>2</td>\n",
       "      <td>Ithergue48</td>\n",
       "      <td>24</td>\n",
       "      <td>Male</td>\n",
       "      <td>92</td>\n",
       "      <td>Final Critic</td>\n",
       "      <td>4.88</td>\n",
       "    </tr>\n",
       "    <tr>\n",
       "      <th>3</th>\n",
       "      <td>3</td>\n",
       "      <td>Chamassasya86</td>\n",
       "      <td>24</td>\n",
       "      <td>Male</td>\n",
       "      <td>100</td>\n",
       "      <td>Blindscythe</td>\n",
       "      <td>3.27</td>\n",
       "    </tr>\n",
       "    <tr>\n",
       "      <th>4</th>\n",
       "      <td>4</td>\n",
       "      <td>Iskosia90</td>\n",
       "      <td>23</td>\n",
       "      <td>Male</td>\n",
       "      <td>131</td>\n",
       "      <td>Fury</td>\n",
       "      <td>1.44</td>\n",
       "    </tr>\n",
       "  </tbody>\n",
       "</table>\n",
       "</div>"
      ],
      "text/plain": [
       "   Purchase ID             SN  Age Gender  Item ID  \\\n",
       "0            0        Lisim78   20   Male      108   \n",
       "1            1    Lisovynya38   40   Male      143   \n",
       "2            2     Ithergue48   24   Male       92   \n",
       "3            3  Chamassasya86   24   Male      100   \n",
       "4            4      Iskosia90   23   Male      131   \n",
       "\n",
       "                                   Item Name  Price  \n",
       "0  Extraction, Quickblade Of Trembling Hands   3.53  \n",
       "1                          Frenzied Scimitar   1.56  \n",
       "2                               Final Critic   4.88  \n",
       "3                                Blindscythe   3.27  \n",
       "4                                       Fury   1.44  "
      ]
     },
     "execution_count": 2,
     "metadata": {},
     "output_type": "execute_result"
    }
   ],
   "source": [
    "# Dependencies and Setup\n",
    "import pandas as pd\n",
    "import numpy as np\n",
    "\n",
    "# File to Load (Remember to Change These)\n",
    "file_to_load = \"Resources/purchase_data.csv\"\n",
    "\n",
    "# Read Purchasing File and store into Pandas data frame\n",
    "purchase_data = pd.read_csv(file_to_load)\n",
    "purchase_data.head()"
   ]
  },
  {
   "cell_type": "markdown",
   "metadata": {},
   "source": [
    "## Player Count"
   ]
  },
  {
   "cell_type": "markdown",
   "metadata": {},
   "source": [
    "* Display the total number of players\n"
   ]
  },
  {
   "cell_type": "code",
   "execution_count": 3,
   "metadata": {},
   "outputs": [
    {
     "data": {
      "text/html": [
       "<div>\n",
       "<style scoped>\n",
       "    .dataframe tbody tr th:only-of-type {\n",
       "        vertical-align: middle;\n",
       "    }\n",
       "\n",
       "    .dataframe tbody tr th {\n",
       "        vertical-align: top;\n",
       "    }\n",
       "\n",
       "    .dataframe thead th {\n",
       "        text-align: right;\n",
       "    }\n",
       "</style>\n",
       "<table border=\"1\" class=\"dataframe\">\n",
       "  <thead>\n",
       "    <tr style=\"text-align: right;\">\n",
       "      <th></th>\n",
       "      <th>Total Players</th>\n",
       "    </tr>\n",
       "  </thead>\n",
       "  <tbody>\n",
       "    <tr>\n",
       "      <th>0</th>\n",
       "      <td>576</td>\n",
       "    </tr>\n",
       "  </tbody>\n",
       "</table>\n",
       "</div>"
      ],
      "text/plain": [
       "   Total Players\n",
       "0            576"
      ]
     },
     "execution_count": 3,
     "metadata": {},
     "output_type": "execute_result"
    }
   ],
   "source": [
    "#put the player count on a variable and convert the result to a DF for a display\n",
    "count = purchase_data['SN'].nunique()\n",
    "player_count = pd.DataFrame([{\"Total Players\":count}])\n",
    "player_count"
   ]
  },
  {
   "cell_type": "markdown",
   "metadata": {},
   "source": [
    "## Purchasing Analysis (Total)"
   ]
  },
  {
   "cell_type": "markdown",
   "metadata": {},
   "source": [
    "* Run basic calculations to obtain number of unique items, average price, etc.\n",
    "\n",
    "\n",
    "* Create a summary data frame to hold the results\n",
    "\n",
    "\n",
    "* Optional: give the displayed data cleaner formatting\n",
    "\n",
    "\n",
    "* Display the summary data frame\n"
   ]
  },
  {
   "cell_type": "code",
   "execution_count": 4,
   "metadata": {},
   "outputs": [
    {
     "data": {
      "text/html": [
       "<style  type=\"text/css\" >\n",
       "</style>  \n",
       "<table id=\"T_bcdde7a6_db05_11e8_94ed_c0bcef37e82b\" > \n",
       "<thead>    <tr> \n",
       "        <th class=\"blank level0\" ></th> \n",
       "        <th class=\"col_heading level0 col0\" >Average Price</th> \n",
       "        <th class=\"col_heading level0 col1\" >Number of Purchases</th> \n",
       "        <th class=\"col_heading level0 col2\" >Number of Unique Items</th> \n",
       "        <th class=\"col_heading level0 col3\" >Total Revenue</th> \n",
       "    </tr></thead> \n",
       "<tbody>    <tr> \n",
       "        <th id=\"T_bcdde7a6_db05_11e8_94ed_c0bcef37e82blevel0_row0\" class=\"row_heading level0 row0\" >0</th> \n",
       "        <td id=\"T_bcdde7a6_db05_11e8_94ed_c0bcef37e82brow0_col0\" class=\"data row0 col0\" >$3.05</td> \n",
       "        <td id=\"T_bcdde7a6_db05_11e8_94ed_c0bcef37e82brow0_col1\" class=\"data row0 col1\" >780</td> \n",
       "        <td id=\"T_bcdde7a6_db05_11e8_94ed_c0bcef37e82brow0_col2\" class=\"data row0 col2\" >179</td> \n",
       "        <td id=\"T_bcdde7a6_db05_11e8_94ed_c0bcef37e82brow0_col3\" class=\"data row0 col3\" >$2379.77</td> \n",
       "    </tr></tbody> \n",
       "</table> "
      ],
      "text/plain": [
       "<pandas.io.formats.style.Styler at 0x217a0d2c6a0>"
      ]
     },
     "execution_count": 4,
     "metadata": {},
     "output_type": "execute_result"
    }
   ],
   "source": [
    "item_count = purchase_data[\"Item Name\"].nunique() #calculate the total number of unique items\n",
    "avg_price = purchase_data[\"Price\"].mean() #calculate average price\n",
    "purchase_count = purchase_data[\"Purchase ID\"].count() #calculate \n",
    "total_revenue = purchase_data[\"Price\"].sum() #calulate the total revenue\n",
    "\n",
    "purchase_analysis = pd.DataFrame([{\n",
    "    \"Number of Unique Items\":item_count,\"Average Price\":avg_price,\"Number of Purchases\":purchase_count,\n",
    "    \"Total Revenue\":total_revenue}])\n",
    "\n",
    "purchase_analysis = purchase_analysis.style.format({'Average Price': \"${:.2f}\", 'Total Revenue': \"${:.2f}\"})\n",
    "purchase_analysis"
   ]
  },
  {
   "cell_type": "markdown",
   "metadata": {
    "scrolled": true
   },
   "source": []
  },
  {
   "cell_type": "markdown",
   "metadata": {},
   "source": [
    "## Gender Demographics"
   ]
  },
  {
   "cell_type": "markdown",
   "metadata": {},
   "source": [
    "* Percentage and Count of Male Players\n",
    "\n",
    "\n",
    "* Percentage and Count of Female Players\n",
    "\n",
    "\n",
    "* Percentage and Count of Other / Non-Disclosed\n",
    "\n",
    "\n"
   ]
  },
  {
   "cell_type": "code",
   "execution_count": 5,
   "metadata": {},
   "outputs": [
    {
     "data": {
      "text/html": [
       "<style  type=\"text/css\" >\n",
       "</style>  \n",
       "<table id=\"T_c3ba5fd0_db05_11e8_8747_c0bcef37e82b\" > \n",
       "<thead>    <tr> \n",
       "        <th class=\"blank level0\" ></th> \n",
       "        <th class=\"col_heading level0 col0\" ></th> \n",
       "        <th class=\"col_heading level0 col1\" >Total Count</th> \n",
       "        <th class=\"col_heading level0 col2\" >Percentage of Players</th> \n",
       "    </tr></thead> \n",
       "<tbody>    <tr> \n",
       "        <th id=\"T_c3ba5fd0_db05_11e8_8747_c0bcef37e82blevel0_row0\" class=\"row_heading level0 row0\" >0</th> \n",
       "        <td id=\"T_c3ba5fd0_db05_11e8_8747_c0bcef37e82brow0_col0\" class=\"data row0 col0\" >Male</td> \n",
       "        <td id=\"T_c3ba5fd0_db05_11e8_8747_c0bcef37e82brow0_col1\" class=\"data row0 col1\" >484</td> \n",
       "        <td id=\"T_c3ba5fd0_db05_11e8_8747_c0bcef37e82brow0_col2\" class=\"data row0 col2\" >%84.03</td> \n",
       "    </tr>    <tr> \n",
       "        <th id=\"T_c3ba5fd0_db05_11e8_8747_c0bcef37e82blevel0_row1\" class=\"row_heading level0 row1\" >1</th> \n",
       "        <td id=\"T_c3ba5fd0_db05_11e8_8747_c0bcef37e82brow1_col0\" class=\"data row1 col0\" >Female</td> \n",
       "        <td id=\"T_c3ba5fd0_db05_11e8_8747_c0bcef37e82brow1_col1\" class=\"data row1 col1\" >81</td> \n",
       "        <td id=\"T_c3ba5fd0_db05_11e8_8747_c0bcef37e82brow1_col2\" class=\"data row1 col2\" >%14.06</td> \n",
       "    </tr>    <tr> \n",
       "        <th id=\"T_c3ba5fd0_db05_11e8_8747_c0bcef37e82blevel0_row2\" class=\"row_heading level0 row2\" >2</th> \n",
       "        <td id=\"T_c3ba5fd0_db05_11e8_8747_c0bcef37e82brow2_col0\" class=\"data row2 col0\" >Other / Non-Disclosed</td> \n",
       "        <td id=\"T_c3ba5fd0_db05_11e8_8747_c0bcef37e82brow2_col1\" class=\"data row2 col1\" >11</td> \n",
       "        <td id=\"T_c3ba5fd0_db05_11e8_8747_c0bcef37e82brow2_col2\" class=\"data row2 col2\" >%1.91</td> \n",
       "    </tr></tbody> \n",
       "</table> "
      ],
      "text/plain": [
       "<pandas.io.formats.style.Styler at 0x217a22f9518>"
      ]
     },
     "execution_count": 5,
     "metadata": {},
     "output_type": "execute_result"
    }
   ],
   "source": [
    "#filter the dataframe by gender = male, female and other/non-disclosed\n",
    "male_df = purchase_data.loc[purchase_data['Gender']== \"Male\",:]\n",
    "female_df = purchase_data.loc[purchase_data['Gender']== \"Female\",:]\n",
    "nondisclosed_df = purchase_data.loc[purchase_data['Gender']== \"Other / Non-Disclosed\",:]\n",
    "\n",
    "#capture the unique counts of SN to determine total number of male, female, other/non-disclosed gender types & sum values to get total\n",
    "male_count = male_df['SN'].nunique()\n",
    "female_count = female_df['SN'].nunique()\n",
    "nondisclosed_count = nondisclosed_df['SN'].nunique()\n",
    "total_gender_count = int(male_count) + int(female_count) + int(nondisclosed_count)\n",
    "male_percentage = (int(male_count)/total_gender_count)*100\n",
    "female_percentage = (int(female_count)/total_gender_count)*100\n",
    "nondisclosed_percentage = (int(nondisclosed_count)/total_gender_count)*100\n",
    "\n",
    "#convert the above result to dictionary for formatting and display\n",
    "gender_demography = pd.DataFrame({\n",
    "    \"\": ['Male','Female','Other / Non-Disclosed'],\n",
    "    \"Total Count\": [male_count,female_count,nondisclosed_count],\n",
    "    \"Percentage of Players\":[male_percentage,female_percentage,nondisclosed_percentage]\n",
    "    })\n",
    "gender_demography = gender_demography.style.format({'Percentage of Players': \"%{:.2f}\"})\n",
    "gender_demography"
   ]
  },
  {
   "cell_type": "markdown",
   "metadata": {},
   "source": [
    "\n",
    "## Purchasing Analysis (Gender)"
   ]
  },
  {
   "cell_type": "markdown",
   "metadata": {},
   "source": [
    "* Run basic calculations to obtain purchase count, avg. purchase price, avg. purchase total per person etc. by gender\n",
    "\n",
    "\n",
    "\n",
    "\n",
    "* Create a summary data frame to hold the results\n",
    "\n",
    "\n",
    "* Optional: give the displayed data cleaner formatting\n",
    "\n",
    "\n",
    "* Display the summary data frame"
   ]
  },
  {
   "cell_type": "code",
   "execution_count": 102,
   "metadata": {},
   "outputs": [
    {
     "data": {
      "text/html": [
       "<style  type=\"text/css\" >\n",
       "</style>  \n",
       "<table id=\"T_db65586e_db15_11e8_926d_c0bcef37e82b\" > \n",
       "<thead>    <tr> \n",
       "        <th class=\"blank level0\" ></th> \n",
       "        <th class=\"col_heading level0 col0\" ></th> \n",
       "        <th class=\"col_heading level0 col1\" >Purchase Count</th> \n",
       "        <th class=\"col_heading level0 col2\" >Average Purchase Price</th> \n",
       "        <th class=\"col_heading level0 col3\" >Total Purchase Value</th> \n",
       "        <th class=\"col_heading level0 col4\" >Avg Total Purchase per Person</th> \n",
       "    </tr></thead> \n",
       "<tbody>    <tr> \n",
       "        <th id=\"T_db65586e_db15_11e8_926d_c0bcef37e82blevel0_row0\" class=\"row_heading level0 row0\" >0</th> \n",
       "        <td id=\"T_db65586e_db15_11e8_926d_c0bcef37e82brow0_col0\" class=\"data row0 col0\" >Female</td> \n",
       "        <td id=\"T_db65586e_db15_11e8_926d_c0bcef37e82brow0_col1\" class=\"data row0 col1\" >113</td> \n",
       "        <td id=\"T_db65586e_db15_11e8_926d_c0bcef37e82brow0_col2\" class=\"data row0 col2\" >$3.20</td> \n",
       "        <td id=\"T_db65586e_db15_11e8_926d_c0bcef37e82brow0_col3\" class=\"data row0 col3\" >$361.94</td> \n",
       "        <td id=\"T_db65586e_db15_11e8_926d_c0bcef37e82brow0_col4\" class=\"data row0 col4\" >$4.47</td> \n",
       "    </tr>    <tr> \n",
       "        <th id=\"T_db65586e_db15_11e8_926d_c0bcef37e82blevel0_row1\" class=\"row_heading level0 row1\" >1</th> \n",
       "        <td id=\"T_db65586e_db15_11e8_926d_c0bcef37e82brow1_col0\" class=\"data row1 col0\" >Male</td> \n",
       "        <td id=\"T_db65586e_db15_11e8_926d_c0bcef37e82brow1_col1\" class=\"data row1 col1\" >652</td> \n",
       "        <td id=\"T_db65586e_db15_11e8_926d_c0bcef37e82brow1_col2\" class=\"data row1 col2\" >$3.02</td> \n",
       "        <td id=\"T_db65586e_db15_11e8_926d_c0bcef37e82brow1_col3\" class=\"data row1 col3\" >$1967.64</td> \n",
       "        <td id=\"T_db65586e_db15_11e8_926d_c0bcef37e82brow1_col4\" class=\"data row1 col4\" >$4.07</td> \n",
       "    </tr>    <tr> \n",
       "        <th id=\"T_db65586e_db15_11e8_926d_c0bcef37e82blevel0_row2\" class=\"row_heading level0 row2\" >2</th> \n",
       "        <td id=\"T_db65586e_db15_11e8_926d_c0bcef37e82brow2_col0\" class=\"data row2 col0\" >Other / Non-Disclosed</td> \n",
       "        <td id=\"T_db65586e_db15_11e8_926d_c0bcef37e82brow2_col1\" class=\"data row2 col1\" >15</td> \n",
       "        <td id=\"T_db65586e_db15_11e8_926d_c0bcef37e82brow2_col2\" class=\"data row2 col2\" >$3.35</td> \n",
       "        <td id=\"T_db65586e_db15_11e8_926d_c0bcef37e82brow2_col3\" class=\"data row2 col3\" >$50.19</td> \n",
       "        <td id=\"T_db65586e_db15_11e8_926d_c0bcef37e82brow2_col4\" class=\"data row2 col4\" >$4.56</td> \n",
       "    </tr></tbody> \n",
       "</table> "
      ],
      "text/plain": [
       "<pandas.io.formats.style.Styler at 0x217a278ec18>"
      ]
     },
     "execution_count": 102,
     "metadata": {},
     "output_type": "execute_result"
    }
   ],
   "source": [
    "#calculations for Sum, purchase count and Avg price per person by gender and avg total purchanse price by gender\n",
    "purchase_gender = purchase_data.groupby(['Gender'])\n",
    "total_purchase = purchase_gender[\"Price\"].sum()\n",
    "purchase_count = purchase_gender[\"Purchase ID\"].count()\n",
    "avg_purchase = purchase_gender[\"Price\"].mean()\n",
    "#calculate the average purchase total => divide the total purchase by gender to the gender count\n",
    "female_avg_purch = total_purchase[\"Female\"]/female_count\n",
    "male_avg_purch = total_purchase[\"Male\"]/male_count\n",
    "nondisclosed_avg_purch = total_purchase[\"Other / Non-Disclosed\"]/nondisclosed_count\n",
    "#convert the result for each gender avg purchase value (which are arrays) to dictionaries, so we can display later on\n",
    "avg_gender = {\"Female\": female_avg_purch, \"Male\":male_avg_purch, \"Non_disc\":nondisclosed_avg_purch}\n",
    "\n",
    "\n",
    "#convert the above computed values to a dictionary for formatting and display\n",
    "purchase_analysis = pd.DataFrame({\n",
    "    \"\": ['Female','Male','Other / Non-Disclosed'],\n",
    "    \"Purchase Count\": [purchase_count[\"Female\"],purchase_count[\"Male\"],purchase_count[\"Other / Non-Disclosed\"]],\n",
    "    \"Average Purchase Price\": [avg_purchase[\"Female\"],avg_purchase[\"Male\"], avg_purchase[\"Other / Non-Disclosed\"]],\n",
    "    \"Total Purchase Value\": [total_purchase[\"Female\"],total_purchase[\"Male\"], total_purchase[\"Other / Non-Disclosed\"]],\n",
    "    \"Avg Total Purchase per Person\": [avg_gender[\"Female\"],avg_gender[\"Male\"], avg_gender[\"Non_disc\"]]\n",
    "    })\n",
    "#format the columns and round the figures to 2 decimal places\n",
    "purchase_analysis = purchase_analysis.style.format({'Average Purchase Price': \"${:.2f}\", \n",
    "                                                    'Total Purchase Value': \"${:.2f}\",\n",
    "                                                    'Avg Total Purchase per Person':\"${:.2f}\"\n",
    "                                                   })\n",
    "purchase_analysis\n"
   ]
  },
  {
   "cell_type": "markdown",
   "metadata": {},
   "source": [
    "## Age Demographics"
   ]
  },
  {
   "cell_type": "markdown",
   "metadata": {},
   "source": [
    "* Establish bins for ages\n",
    "\n",
    "\n",
    "* Categorize the existing players using the age bins. Hint: use pd.cut()\n",
    "\n",
    "\n",
    "* Calculate the numbers and percentages by age group\n",
    "\n",
    "\n",
    "* Create a summary data frame to hold the results\n",
    "\n",
    "\n",
    "* Optional: round the percentage column to two decimal points\n",
    "\n",
    "\n",
    "* Display Age Demographics Table\n"
   ]
  },
  {
   "cell_type": "code",
   "execution_count": 161,
   "metadata": {},
   "outputs": [
    {
     "data": {
      "text/html": [
       "<style  type=\"text/css\" >\n",
       "</style>  \n",
       "<table id=\"T_161b0466_db21_11e8_aa0a_c0bcef37e82b\" > \n",
       "<thead>    <tr> \n",
       "        <th class=\"blank level0\" ></th> \n",
       "        <th class=\"col_heading level0 col0\" >Age Groups</th> \n",
       "        <th class=\"col_heading level0 col1\" >Total Count</th> \n",
       "        <th class=\"col_heading level0 col2\" >Percentage of Players</th> \n",
       "    </tr></thead> \n",
       "<tbody>    <tr> \n",
       "        <th id=\"T_161b0466_db21_11e8_aa0a_c0bcef37e82blevel0_row0\" class=\"row_heading level0 row0\" >0</th> \n",
       "        <td id=\"T_161b0466_db21_11e8_aa0a_c0bcef37e82brow0_col0\" class=\"data row0 col0\" >< 10</td> \n",
       "        <td id=\"T_161b0466_db21_11e8_aa0a_c0bcef37e82brow0_col1\" class=\"data row0 col1\" >23</td> \n",
       "        <td id=\"T_161b0466_db21_11e8_aa0a_c0bcef37e82brow0_col2\" class=\"data row0 col2\" >%3.99</td> \n",
       "    </tr>    <tr> \n",
       "        <th id=\"T_161b0466_db21_11e8_aa0a_c0bcef37e82blevel0_row1\" class=\"row_heading level0 row1\" >1</th> \n",
       "        <td id=\"T_161b0466_db21_11e8_aa0a_c0bcef37e82brow1_col0\" class=\"data row1 col0\" >10-14</td> \n",
       "        <td id=\"T_161b0466_db21_11e8_aa0a_c0bcef37e82brow1_col1\" class=\"data row1 col1\" >28</td> \n",
       "        <td id=\"T_161b0466_db21_11e8_aa0a_c0bcef37e82brow1_col2\" class=\"data row1 col2\" >%4.86</td> \n",
       "    </tr>    <tr> \n",
       "        <th id=\"T_161b0466_db21_11e8_aa0a_c0bcef37e82blevel0_row2\" class=\"row_heading level0 row2\" >2</th> \n",
       "        <td id=\"T_161b0466_db21_11e8_aa0a_c0bcef37e82brow2_col0\" class=\"data row2 col0\" >15-19</td> \n",
       "        <td id=\"T_161b0466_db21_11e8_aa0a_c0bcef37e82brow2_col1\" class=\"data row2 col1\" >136</td> \n",
       "        <td id=\"T_161b0466_db21_11e8_aa0a_c0bcef37e82brow2_col2\" class=\"data row2 col2\" >%23.61</td> \n",
       "    </tr>    <tr> \n",
       "        <th id=\"T_161b0466_db21_11e8_aa0a_c0bcef37e82blevel0_row3\" class=\"row_heading level0 row3\" >3</th> \n",
       "        <td id=\"T_161b0466_db21_11e8_aa0a_c0bcef37e82brow3_col0\" class=\"data row3 col0\" >20-24</td> \n",
       "        <td id=\"T_161b0466_db21_11e8_aa0a_c0bcef37e82brow3_col1\" class=\"data row3 col1\" >365</td> \n",
       "        <td id=\"T_161b0466_db21_11e8_aa0a_c0bcef37e82brow3_col2\" class=\"data row3 col2\" >%63.37</td> \n",
       "    </tr>    <tr> \n",
       "        <th id=\"T_161b0466_db21_11e8_aa0a_c0bcef37e82blevel0_row4\" class=\"row_heading level0 row4\" >4</th> \n",
       "        <td id=\"T_161b0466_db21_11e8_aa0a_c0bcef37e82brow4_col0\" class=\"data row4 col0\" >25-29</td> \n",
       "        <td id=\"T_161b0466_db21_11e8_aa0a_c0bcef37e82brow4_col1\" class=\"data row4 col1\" >101</td> \n",
       "        <td id=\"T_161b0466_db21_11e8_aa0a_c0bcef37e82brow4_col2\" class=\"data row4 col2\" >%17.53</td> \n",
       "    </tr>    <tr> \n",
       "        <th id=\"T_161b0466_db21_11e8_aa0a_c0bcef37e82blevel0_row5\" class=\"row_heading level0 row5\" >5</th> \n",
       "        <td id=\"T_161b0466_db21_11e8_aa0a_c0bcef37e82brow5_col0\" class=\"data row5 col0\" >30-34</td> \n",
       "        <td id=\"T_161b0466_db21_11e8_aa0a_c0bcef37e82brow5_col1\" class=\"data row5 col1\" >73</td> \n",
       "        <td id=\"T_161b0466_db21_11e8_aa0a_c0bcef37e82brow5_col2\" class=\"data row5 col2\" >%12.67</td> \n",
       "    </tr>    <tr> \n",
       "        <th id=\"T_161b0466_db21_11e8_aa0a_c0bcef37e82blevel0_row6\" class=\"row_heading level0 row6\" >6</th> \n",
       "        <td id=\"T_161b0466_db21_11e8_aa0a_c0bcef37e82brow6_col0\" class=\"data row6 col0\" >35-39</td> \n",
       "        <td id=\"T_161b0466_db21_11e8_aa0a_c0bcef37e82brow6_col1\" class=\"data row6 col1\" >41</td> \n",
       "        <td id=\"T_161b0466_db21_11e8_aa0a_c0bcef37e82brow6_col2\" class=\"data row6 col2\" >%7.12</td> \n",
       "    </tr>    <tr> \n",
       "        <th id=\"T_161b0466_db21_11e8_aa0a_c0bcef37e82blevel0_row7\" class=\"row_heading level0 row7\" >7</th> \n",
       "        <td id=\"T_161b0466_db21_11e8_aa0a_c0bcef37e82brow7_col0\" class=\"data row7 col0\" >40+</td> \n",
       "        <td id=\"T_161b0466_db21_11e8_aa0a_c0bcef37e82brow7_col1\" class=\"data row7 col1\" >13</td> \n",
       "        <td id=\"T_161b0466_db21_11e8_aa0a_c0bcef37e82brow7_col2\" class=\"data row7 col2\" >%2.26</td> \n",
       "    </tr></tbody> \n",
       "</table> "
      ],
      "text/plain": [
       "<pandas.io.formats.style.Styler at 0x217a29d7cc0>"
      ]
     },
     "execution_count": 161,
     "metadata": {},
     "output_type": "execute_result"
    }
   ],
   "source": [
    "\n",
    "def calculate_percent(row):\n",
    "    return (row['Total Count']/count)*100\n",
    "\n",
    "bins = [0, 9, 14, 19, 24, 29, 34, 39, 100]\n",
    "\n",
    "# Create the names for the bins\n",
    "age_groups = [\"< 10\", \"10-14\", \"15-19\", \"20-24\", \"25-29\",\"30-34\",\"35-39\", \"40+\"]\n",
    "purchase_data[\"Age Groups\"] = pd.cut(purchase_data[\"Age\"], bins, labels=age_groups)\n",
    "\n",
    "grpby_age = pd.DataFrame({'Total Count' : purchase_data.groupby( [\"Age Groups\"] ).size()}).reset_index()\n",
    "grpby_age['Percentage of Players'] = grpby_age.apply(calculate_percent, axis=1)\n",
    "grpby_age= grpby_age.style.format({'Percentage of Players': \"%{:.2f}\"\n",
    "                                                   })\n",
    "grpby_age"
   ]
  },
  {
   "cell_type": "markdown",
   "metadata": {},
   "source": [
    "## Purchasing Analysis (Age)"
   ]
  },
  {
   "cell_type": "markdown",
   "metadata": {},
   "source": [
    "* Bin the purchase_data data frame by age\n",
    "\n",
    "\n",
    "* Run basic calculations to obtain purchase count, avg. purchase price, avg. purchase total per person etc. in the table below\n",
    "\n",
    "\n",
    "* Create a summary data frame to hold the results\n",
    "\n",
    "\n",
    "* Optional: give the displayed data cleaner formatting\n",
    "\n",
    "\n",
    "* Display the summary data frame"
   ]
  },
  {
   "cell_type": "code",
   "execution_count": 195,
   "metadata": {},
   "outputs": [
    {
     "data": {
      "text/html": [
       "<style  type=\"text/css\" >\n",
       "</style>  \n",
       "<table id=\"T_9acecc18_db28_11e8_8f9f_c0bcef37e82b\" > \n",
       "<thead>    <tr> \n",
       "        <th class=\"blank level0\" ></th> \n",
       "        <th class=\"col_heading level0 col0\" >Age Groups</th> \n",
       "        <th class=\"col_heading level0 col1\" >Purchase Count</th> \n",
       "        <th class=\"col_heading level0 col2\" >Average Purchase Price</th> \n",
       "        <th class=\"col_heading level0 col3\" >Total Purchase Value</th> \n",
       "        <th class=\"col_heading level0 col4\" >Avg Total Purchase per Person</th> \n",
       "    </tr></thead> \n",
       "<tbody>    <tr> \n",
       "        <th id=\"T_9acecc18_db28_11e8_8f9f_c0bcef37e82blevel0_row0\" class=\"row_heading level0 row0\" >0</th> \n",
       "        <td id=\"T_9acecc18_db28_11e8_8f9f_c0bcef37e82brow0_col0\" class=\"data row0 col0\" >< 10</td> \n",
       "        <td id=\"T_9acecc18_db28_11e8_8f9f_c0bcef37e82brow0_col1\" class=\"data row0 col1\" >23</td> \n",
       "        <td id=\"T_9acecc18_db28_11e8_8f9f_c0bcef37e82brow0_col2\" class=\"data row0 col2\" >$3.35</td> \n",
       "        <td id=\"T_9acecc18_db28_11e8_8f9f_c0bcef37e82brow0_col3\" class=\"data row0 col3\" >$77.13</td> \n",
       "        <td id=\"T_9acecc18_db28_11e8_8f9f_c0bcef37e82brow0_col4\" class=\"data row0 col4\" >$3.35</td> \n",
       "    </tr>    <tr> \n",
       "        <th id=\"T_9acecc18_db28_11e8_8f9f_c0bcef37e82blevel0_row1\" class=\"row_heading level0 row1\" >1</th> \n",
       "        <td id=\"T_9acecc18_db28_11e8_8f9f_c0bcef37e82brow1_col0\" class=\"data row1 col0\" >10-14</td> \n",
       "        <td id=\"T_9acecc18_db28_11e8_8f9f_c0bcef37e82brow1_col1\" class=\"data row1 col1\" >28</td> \n",
       "        <td id=\"T_9acecc18_db28_11e8_8f9f_c0bcef37e82brow1_col2\" class=\"data row1 col2\" >$2.96</td> \n",
       "        <td id=\"T_9acecc18_db28_11e8_8f9f_c0bcef37e82brow1_col3\" class=\"data row1 col3\" >$82.78</td> \n",
       "        <td id=\"T_9acecc18_db28_11e8_8f9f_c0bcef37e82brow1_col4\" class=\"data row1 col4\" >$2.96</td> \n",
       "    </tr>    <tr> \n",
       "        <th id=\"T_9acecc18_db28_11e8_8f9f_c0bcef37e82blevel0_row2\" class=\"row_heading level0 row2\" >2</th> \n",
       "        <td id=\"T_9acecc18_db28_11e8_8f9f_c0bcef37e82brow2_col0\" class=\"data row2 col0\" >15-19</td> \n",
       "        <td id=\"T_9acecc18_db28_11e8_8f9f_c0bcef37e82brow2_col1\" class=\"data row2 col1\" >136</td> \n",
       "        <td id=\"T_9acecc18_db28_11e8_8f9f_c0bcef37e82brow2_col2\" class=\"data row2 col2\" >$3.04</td> \n",
       "        <td id=\"T_9acecc18_db28_11e8_8f9f_c0bcef37e82brow2_col3\" class=\"data row2 col3\" >$412.89</td> \n",
       "        <td id=\"T_9acecc18_db28_11e8_8f9f_c0bcef37e82brow2_col4\" class=\"data row2 col4\" >$3.04</td> \n",
       "    </tr>    <tr> \n",
       "        <th id=\"T_9acecc18_db28_11e8_8f9f_c0bcef37e82blevel0_row3\" class=\"row_heading level0 row3\" >3</th> \n",
       "        <td id=\"T_9acecc18_db28_11e8_8f9f_c0bcef37e82brow3_col0\" class=\"data row3 col0\" >20-24</td> \n",
       "        <td id=\"T_9acecc18_db28_11e8_8f9f_c0bcef37e82brow3_col1\" class=\"data row3 col1\" >365</td> \n",
       "        <td id=\"T_9acecc18_db28_11e8_8f9f_c0bcef37e82brow3_col2\" class=\"data row3 col2\" >$3.05</td> \n",
       "        <td id=\"T_9acecc18_db28_11e8_8f9f_c0bcef37e82brow3_col3\" class=\"data row3 col3\" >$1114.06</td> \n",
       "        <td id=\"T_9acecc18_db28_11e8_8f9f_c0bcef37e82brow3_col4\" class=\"data row3 col4\" >$3.05</td> \n",
       "    </tr>    <tr> \n",
       "        <th id=\"T_9acecc18_db28_11e8_8f9f_c0bcef37e82blevel0_row4\" class=\"row_heading level0 row4\" >4</th> \n",
       "        <td id=\"T_9acecc18_db28_11e8_8f9f_c0bcef37e82brow4_col0\" class=\"data row4 col0\" >25-29</td> \n",
       "        <td id=\"T_9acecc18_db28_11e8_8f9f_c0bcef37e82brow4_col1\" class=\"data row4 col1\" >101</td> \n",
       "        <td id=\"T_9acecc18_db28_11e8_8f9f_c0bcef37e82brow4_col2\" class=\"data row4 col2\" >$2.90</td> \n",
       "        <td id=\"T_9acecc18_db28_11e8_8f9f_c0bcef37e82brow4_col3\" class=\"data row4 col3\" >$293.00</td> \n",
       "        <td id=\"T_9acecc18_db28_11e8_8f9f_c0bcef37e82brow4_col4\" class=\"data row4 col4\" >$2.90</td> \n",
       "    </tr>    <tr> \n",
       "        <th id=\"T_9acecc18_db28_11e8_8f9f_c0bcef37e82blevel0_row5\" class=\"row_heading level0 row5\" >5</th> \n",
       "        <td id=\"T_9acecc18_db28_11e8_8f9f_c0bcef37e82brow5_col0\" class=\"data row5 col0\" >30-34</td> \n",
       "        <td id=\"T_9acecc18_db28_11e8_8f9f_c0bcef37e82brow5_col1\" class=\"data row5 col1\" >73</td> \n",
       "        <td id=\"T_9acecc18_db28_11e8_8f9f_c0bcef37e82brow5_col2\" class=\"data row5 col2\" >$2.93</td> \n",
       "        <td id=\"T_9acecc18_db28_11e8_8f9f_c0bcef37e82brow5_col3\" class=\"data row5 col3\" >$214.00</td> \n",
       "        <td id=\"T_9acecc18_db28_11e8_8f9f_c0bcef37e82brow5_col4\" class=\"data row5 col4\" >$2.93</td> \n",
       "    </tr>    <tr> \n",
       "        <th id=\"T_9acecc18_db28_11e8_8f9f_c0bcef37e82blevel0_row6\" class=\"row_heading level0 row6\" >6</th> \n",
       "        <td id=\"T_9acecc18_db28_11e8_8f9f_c0bcef37e82brow6_col0\" class=\"data row6 col0\" >35-39</td> \n",
       "        <td id=\"T_9acecc18_db28_11e8_8f9f_c0bcef37e82brow6_col1\" class=\"data row6 col1\" >41</td> \n",
       "        <td id=\"T_9acecc18_db28_11e8_8f9f_c0bcef37e82brow6_col2\" class=\"data row6 col2\" >$3.60</td> \n",
       "        <td id=\"T_9acecc18_db28_11e8_8f9f_c0bcef37e82brow6_col3\" class=\"data row6 col3\" >$147.67</td> \n",
       "        <td id=\"T_9acecc18_db28_11e8_8f9f_c0bcef37e82brow6_col4\" class=\"data row6 col4\" >$3.60</td> \n",
       "    </tr>    <tr> \n",
       "        <th id=\"T_9acecc18_db28_11e8_8f9f_c0bcef37e82blevel0_row7\" class=\"row_heading level0 row7\" >7</th> \n",
       "        <td id=\"T_9acecc18_db28_11e8_8f9f_c0bcef37e82brow7_col0\" class=\"data row7 col0\" >40+</td> \n",
       "        <td id=\"T_9acecc18_db28_11e8_8f9f_c0bcef37e82brow7_col1\" class=\"data row7 col1\" >13</td> \n",
       "        <td id=\"T_9acecc18_db28_11e8_8f9f_c0bcef37e82brow7_col2\" class=\"data row7 col2\" >$2.94</td> \n",
       "        <td id=\"T_9acecc18_db28_11e8_8f9f_c0bcef37e82brow7_col3\" class=\"data row7 col3\" >$38.24</td> \n",
       "        <td id=\"T_9acecc18_db28_11e8_8f9f_c0bcef37e82brow7_col4\" class=\"data row7 col4\" >$2.94</td> \n",
       "    </tr></tbody> \n",
       "</table> "
      ],
      "text/plain": [
       "<pandas.io.formats.style.Styler at 0x217a279a160>"
      ]
     },
     "execution_count": 195,
     "metadata": {},
     "output_type": "execute_result"
    }
   ],
   "source": [
    "bins = [0, 9, 14, 19, 24, 29, 34, 39, 100]\n",
    "\n",
    "# Create the names for the bins\n",
    "age_groups = [\"< 10\", \"10-14\", \"15-19\", \"20-24\", \"25-29\",\"30-34\",\"35-39\", \"40+\"]\n",
    "purchase_data[\"Age Groups\"] = pd.cut(purchase_data[\"Age\"], bins, labels=age_groups)\n",
    "\n",
    "grped_data = purchase_data.groupby( [\"Age Groups\"])\n",
    "grped_data.count().head(10)\n",
    "sum_df = grped_data[\"Price\"].sum()\n",
    "mean_df = grped_data[\"Price\"].mean()\n",
    "count_df = grped_data[\"Age Groups\"].size()\n",
    "avg_pp = sum_df/count_df\n",
    "\n",
    "purchase_analysis = pd.DataFrame({'Purchase Count' : count_df,\n",
    "                                  'Average Purchase Price': mean_df,\n",
    "                                  'Total Purchase Value': sum_df,\n",
    "                                  'Avg Total Purchase per Person': avg_pp\n",
    "                                   }).reset_index()\n",
    "\n",
    "\n",
    "purchase_analysis= purchase_analysis.style.format({'Average Purchase Price': \"${:.2f}\",\n",
    "                                                   'Total Purchase Value': \"${:.2f}\",\n",
    "                                                   'Avg Total Purchase per Person': \"${:.2f}\"\n",
    "                                                   })\n",
    "purchase_analysis"
   ]
  },
  {
   "cell_type": "markdown",
   "metadata": {},
   "source": [
    "## Top Spenders"
   ]
  },
  {
   "cell_type": "markdown",
   "metadata": {},
   "source": [
    "* Run basic calculations to obtain the results in the table below\n",
    "\n",
    "\n",
    "* Create a summary data frame to hold the results\n",
    "\n",
    "\n",
    "* Sort the total purchase value column in descending order\n",
    "\n",
    "\n",
    "* Optional: give the displayed data cleaner formatting\n",
    "\n",
    "\n",
    "* Display a preview of the summary data frame\n",
    "\n"
   ]
  },
  {
   "cell_type": "code",
   "execution_count": 8,
   "metadata": {},
   "outputs": [
    {
     "data": {
      "text/html": [
       "<div>\n",
       "<table border=\"1\" class=\"dataframe\">\n",
       "  <thead>\n",
       "    <tr style=\"text-align: right;\">\n",
       "      <th></th>\n",
       "      <th>Purchase Count</th>\n",
       "      <th>Average Purchase Price</th>\n",
       "      <th>Total Purchase Value</th>\n",
       "    </tr>\n",
       "    <tr>\n",
       "      <th>SN</th>\n",
       "      <th></th>\n",
       "      <th></th>\n",
       "      <th></th>\n",
       "    </tr>\n",
       "  </thead>\n",
       "  <tbody>\n",
       "    <tr>\n",
       "      <th>Lisosia93</th>\n",
       "      <td>5</td>\n",
       "      <td>$3.79</td>\n",
       "      <td>$18.96</td>\n",
       "    </tr>\n",
       "    <tr>\n",
       "      <th>Idastidru52</th>\n",
       "      <td>4</td>\n",
       "      <td>$3.86</td>\n",
       "      <td>$15.45</td>\n",
       "    </tr>\n",
       "    <tr>\n",
       "      <th>Chamjask73</th>\n",
       "      <td>3</td>\n",
       "      <td>$4.61</td>\n",
       "      <td>$13.83</td>\n",
       "    </tr>\n",
       "    <tr>\n",
       "      <th>Iral74</th>\n",
       "      <td>4</td>\n",
       "      <td>$3.40</td>\n",
       "      <td>$13.62</td>\n",
       "    </tr>\n",
       "    <tr>\n",
       "      <th>Iskadarya95</th>\n",
       "      <td>3</td>\n",
       "      <td>$4.37</td>\n",
       "      <td>$13.10</td>\n",
       "    </tr>\n",
       "  </tbody>\n",
       "</table>\n",
       "</div>"
      ],
      "text/plain": [
       "             Purchase Count Average Purchase Price Total Purchase Value\n",
       "SN                                                                     \n",
       "Lisosia93                 5                  $3.79               $18.96\n",
       "Idastidru52               4                  $3.86               $15.45\n",
       "Chamjask73                3                  $4.61               $13.83\n",
       "Iral74                    4                  $3.40               $13.62\n",
       "Iskadarya95               3                  $4.37               $13.10"
      ]
     },
     "execution_count": 8,
     "metadata": {},
     "output_type": "execute_result"
    }
   ],
   "source": []
  },
  {
   "cell_type": "markdown",
   "metadata": {},
   "source": [
    "## Most Popular Items"
   ]
  },
  {
   "cell_type": "markdown",
   "metadata": {},
   "source": [
    "* Retrieve the Item ID, Item Name, and Item Price columns\n",
    "\n",
    "\n",
    "* Group by Item ID and Item Name. Perform calculations to obtain purchase count, item price, and total purchase value\n",
    "\n",
    "\n",
    "* Create a summary data frame to hold the results\n",
    "\n",
    "\n",
    "* Sort the purchase count column in descending order\n",
    "\n",
    "\n",
    "* Optional: give the displayed data cleaner formatting\n",
    "\n",
    "\n",
    "* Display a preview of the summary data frame\n",
    "\n"
   ]
  },
  {
   "cell_type": "code",
   "execution_count": 9,
   "metadata": {},
   "outputs": [
    {
     "data": {
      "text/html": [
       "<div>\n",
       "<table border=\"1\" class=\"dataframe\">\n",
       "  <thead>\n",
       "    <tr style=\"text-align: right;\">\n",
       "      <th></th>\n",
       "      <th></th>\n",
       "      <th>Purchase Count</th>\n",
       "      <th>Item Price</th>\n",
       "      <th>Total Purchase Value</th>\n",
       "    </tr>\n",
       "    <tr>\n",
       "      <th>Item ID</th>\n",
       "      <th>Item Name</th>\n",
       "      <th></th>\n",
       "      <th></th>\n",
       "      <th></th>\n",
       "    </tr>\n",
       "  </thead>\n",
       "  <tbody>\n",
       "    <tr>\n",
       "      <th>178</th>\n",
       "      <th>Oathbreaker, Last Hope of the Breaking Storm</th>\n",
       "      <td>12</td>\n",
       "      <td>$4.23</td>\n",
       "      <td>$50.76</td>\n",
       "    </tr>\n",
       "    <tr>\n",
       "      <th>145</th>\n",
       "      <th>Fiery Glass Crusader</th>\n",
       "      <td>9</td>\n",
       "      <td>$4.58</td>\n",
       "      <td>$41.22</td>\n",
       "    </tr>\n",
       "    <tr>\n",
       "      <th>108</th>\n",
       "      <th>Extraction, Quickblade Of Trembling Hands</th>\n",
       "      <td>9</td>\n",
       "      <td>$3.53</td>\n",
       "      <td>$31.77</td>\n",
       "    </tr>\n",
       "    <tr>\n",
       "      <th>82</th>\n",
       "      <th>Nirvana</th>\n",
       "      <td>9</td>\n",
       "      <td>$4.90</td>\n",
       "      <td>$44.10</td>\n",
       "    </tr>\n",
       "    <tr>\n",
       "      <th>19</th>\n",
       "      <th>Pursuit, Cudgel of Necromancy</th>\n",
       "      <td>8</td>\n",
       "      <td>$1.02</td>\n",
       "      <td>$8.16</td>\n",
       "    </tr>\n",
       "  </tbody>\n",
       "</table>\n",
       "</div>"
      ],
      "text/plain": [
       "                                                     Purchase Count  \\\n",
       "Item ID Item Name                                                     \n",
       "178     Oathbreaker, Last Hope of the Breaking Storm             12   \n",
       "145     Fiery Glass Crusader                                      9   \n",
       "108     Extraction, Quickblade Of Trembling Hands                 9   \n",
       "82      Nirvana                                                   9   \n",
       "19      Pursuit, Cudgel of Necromancy                             8   \n",
       "\n",
       "                                                     Item Price  \\\n",
       "Item ID Item Name                                                 \n",
       "178     Oathbreaker, Last Hope of the Breaking Storm      $4.23   \n",
       "145     Fiery Glass Crusader                              $4.58   \n",
       "108     Extraction, Quickblade Of Trembling Hands         $3.53   \n",
       "82      Nirvana                                           $4.90   \n",
       "19      Pursuit, Cudgel of Necromancy                     $1.02   \n",
       "\n",
       "                                                     Total Purchase Value  \n",
       "Item ID Item Name                                                          \n",
       "178     Oathbreaker, Last Hope of the Breaking Storm               $50.76  \n",
       "145     Fiery Glass Crusader                                       $41.22  \n",
       "108     Extraction, Quickblade Of Trembling Hands                  $31.77  \n",
       "82      Nirvana                                                    $44.10  \n",
       "19      Pursuit, Cudgel of Necromancy                               $8.16  "
      ]
     },
     "execution_count": 9,
     "metadata": {},
     "output_type": "execute_result"
    }
   ],
   "source": []
  },
  {
   "cell_type": "markdown",
   "metadata": {},
   "source": [
    "## Most Profitable Items"
   ]
  },
  {
   "cell_type": "markdown",
   "metadata": {},
   "source": [
    "* Sort the above table by total purchase value in descending order\n",
    "\n",
    "\n",
    "* Optional: give the displayed data cleaner formatting\n",
    "\n",
    "\n",
    "* Display a preview of the data frame\n",
    "\n"
   ]
  },
  {
   "cell_type": "code",
   "execution_count": 10,
   "metadata": {
    "scrolled": true
   },
   "outputs": [
    {
     "data": {
      "text/html": [
       "<div>\n",
       "<table border=\"1\" class=\"dataframe\">\n",
       "  <thead>\n",
       "    <tr style=\"text-align: right;\">\n",
       "      <th></th>\n",
       "      <th></th>\n",
       "      <th>Purchase Count</th>\n",
       "      <th>Item Price</th>\n",
       "      <th>Total Purchase Value</th>\n",
       "    </tr>\n",
       "    <tr>\n",
       "      <th>Item ID</th>\n",
       "      <th>Item Name</th>\n",
       "      <th></th>\n",
       "      <th></th>\n",
       "      <th></th>\n",
       "    </tr>\n",
       "  </thead>\n",
       "  <tbody>\n",
       "    <tr>\n",
       "      <th>178</th>\n",
       "      <th>Oathbreaker, Last Hope of the Breaking Storm</th>\n",
       "      <td>12</td>\n",
       "      <td>$4.23</td>\n",
       "      <td>$50.76</td>\n",
       "    </tr>\n",
       "    <tr>\n",
       "      <th>82</th>\n",
       "      <th>Nirvana</th>\n",
       "      <td>9</td>\n",
       "      <td>$4.90</td>\n",
       "      <td>$44.10</td>\n",
       "    </tr>\n",
       "    <tr>\n",
       "      <th>145</th>\n",
       "      <th>Fiery Glass Crusader</th>\n",
       "      <td>9</td>\n",
       "      <td>$4.58</td>\n",
       "      <td>$41.22</td>\n",
       "    </tr>\n",
       "    <tr>\n",
       "      <th>92</th>\n",
       "      <th>Final Critic</th>\n",
       "      <td>8</td>\n",
       "      <td>$4.88</td>\n",
       "      <td>$39.04</td>\n",
       "    </tr>\n",
       "    <tr>\n",
       "      <th>103</th>\n",
       "      <th>Singed Scalpel</th>\n",
       "      <td>8</td>\n",
       "      <td>$4.35</td>\n",
       "      <td>$34.80</td>\n",
       "    </tr>\n",
       "  </tbody>\n",
       "</table>\n",
       "</div>"
      ],
      "text/plain": [
       "                                                     Purchase Count  \\\n",
       "Item ID Item Name                                                     \n",
       "178     Oathbreaker, Last Hope of the Breaking Storm             12   \n",
       "82      Nirvana                                                   9   \n",
       "145     Fiery Glass Crusader                                      9   \n",
       "92      Final Critic                                              8   \n",
       "103     Singed Scalpel                                            8   \n",
       "\n",
       "                                                     Item Price  \\\n",
       "Item ID Item Name                                                 \n",
       "178     Oathbreaker, Last Hope of the Breaking Storm      $4.23   \n",
       "82      Nirvana                                           $4.90   \n",
       "145     Fiery Glass Crusader                              $4.58   \n",
       "92      Final Critic                                      $4.88   \n",
       "103     Singed Scalpel                                    $4.35   \n",
       "\n",
       "                                                     Total Purchase Value  \n",
       "Item ID Item Name                                                          \n",
       "178     Oathbreaker, Last Hope of the Breaking Storm               $50.76  \n",
       "82      Nirvana                                                    $44.10  \n",
       "145     Fiery Glass Crusader                                       $41.22  \n",
       "92      Final Critic                                               $39.04  \n",
       "103     Singed Scalpel                                             $34.80  "
      ]
     },
     "execution_count": 10,
     "metadata": {},
     "output_type": "execute_result"
    }
   ],
   "source": []
  }
 ],
 "metadata": {
  "anaconda-cloud": {},
  "kernel_info": {
   "name": "python3"
  },
  "kernelspec": {
   "display_name": "Python 3",
   "language": "python",
   "name": "python3"
  },
  "language_info": {
   "codemirror_mode": {
    "name": "ipython",
    "version": 3
   },
   "file_extension": ".py",
   "mimetype": "text/x-python",
   "name": "python",
   "nbconvert_exporter": "python",
   "pygments_lexer": "ipython3",
   "version": "3.7.0"
  },
  "nteract": {
   "version": "0.2.0"
  }
 },
 "nbformat": 4,
 "nbformat_minor": 2
}
